{
  "nbformat": 4,
  "nbformat_minor": 0,
  "metadata": {
    "colab": {
      "name": "Untitled1.ipynb",
      "provenance": [],
      "authorship_tag": "ABX9TyPqYqG8v5a2jixB5l5NopfA",
      "include_colab_link": true
    },
    "kernelspec": {
      "name": "python3",
      "display_name": "Python 3"
    },
    "language_info": {
      "name": "python"
    }
  },
  "cells": [
    {
      "cell_type": "markdown",
      "metadata": {
        "id": "view-in-github",
        "colab_type": "text"
      },
      "source": [
        "<a href=\"https://colab.research.google.com/github/AkshiSharma12/InstaBot/blob/master/Autoencoder.ipynb\" target=\"_parent\"><img src=\"https://colab.research.google.com/assets/colab-badge.svg\" alt=\"Open In Colab\"/></a>"
      ]
    },
    {
      "cell_type": "code",
      "metadata": {
        "id": "A6Zlr4MsLXhB"
      },
      "source": [
        "from tensorflow.keras.models import Model\n",
        "from tensorflow.keras.layers import Input,Dense \n",
        "import numpy as np \n",
        "import matplotlib.pyplot as plt"
      ],
      "execution_count": 1,
      "outputs": []
    },
    {
      "cell_type": "code",
      "metadata": {
        "colab": {
          "resources": {
            "http://localhost:8080/nbextensions/google.colab/files.js": {
              "data": "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",
              "ok": true,
              "headers": [
                [
                  "content-type",
                  "application/javascript"
                ]
              ],
              "status": 200,
              "status_text": ""
            }
          },
          "base_uri": "https://localhost:8080/",
          "height": 73
        },
        "id": "-cxGyco2LpSb",
        "outputId": "24640aa0-45a6-4262-d76c-0c2c1f59b120"
      },
      "source": [
        "from google.colab import files\n",
        "data_to_load = files.upload()"
      ],
      "execution_count": 2,
      "outputs": [
        {
          "output_type": "display_data",
          "data": {
            "text/html": [
              "\n",
              "     <input type=\"file\" id=\"files-295a5028-70ca-4621-b4f5-918423cdc6cd\" name=\"files[]\" multiple disabled\n",
              "        style=\"border:none\" />\n",
              "     <output id=\"result-295a5028-70ca-4621-b4f5-918423cdc6cd\">\n",
              "      Upload widget is only available when the cell has been executed in the\n",
              "      current browser session. Please rerun this cell to enable.\n",
              "      </output>\n",
              "      <script src=\"/nbextensions/google.colab/files.js\"></script> "
            ],
            "text/plain": [
              "<IPython.core.display.HTML object>"
            ]
          },
          "metadata": {
            "tags": []
          }
        },
        {
          "output_type": "stream",
          "text": [
            "Saving data.csv to data.csv\n"
          ],
          "name": "stdout"
        }
      ]
    },
    {
      "cell_type": "code",
      "metadata": {
        "id": "rX4YL1zXsj1X"
      },
      "source": [
        "import pandas as pd"
      ],
      "execution_count": 3,
      "outputs": []
    },
    {
      "cell_type": "code",
      "metadata": {
        "id": "bT26XoDbLpuH"
      },
      "source": [
        "import io\n",
        "df = pd.read_csv(io.BytesIO(data_to_load['data.csv']))"
      ],
      "execution_count": 4,
      "outputs": []
    },
    {
      "cell_type": "code",
      "metadata": {
        "id": "miguYH9Dsv-u"
      },
      "source": [
        "import seaborn as sns"
      ],
      "execution_count": 5,
      "outputs": []
    },
    {
      "cell_type": "code",
      "metadata": {
        "colab": {
          "base_uri": "https://localhost:8080/",
          "height": 369
        },
        "id": "lpkJcqGdLqAv",
        "outputId": "4a50770d-65f0-411f-dcbb-4ec97689d519"
      },
      "source": [
        "ax= sns.countplot(df['diagnosis'], label ='Count')\n",
        "B,M = df['diagnosis'].value_counts()\n",
        "print ('Benign', B)\n",
        "print ('Malignanat', M)"
      ],
      "execution_count": 6,
      "outputs": [
        {
          "output_type": "stream",
          "text": [
            "/usr/local/lib/python3.7/dist-packages/seaborn/_decorators.py:43: FutureWarning: Pass the following variable as a keyword arg: x. From version 0.12, the only valid positional argument will be `data`, and passing other arguments without an explicit keyword will result in an error or misinterpretation.\n",
            "  FutureWarning\n"
          ],
          "name": "stderr"
        },
        {
          "output_type": "stream",
          "text": [
            "Benign 357\n",
            "Malignanat 212\n"
          ],
          "name": "stdout"
        },
        {
          "output_type": "display_data",
          "data": {
            "image/png": "[encoded data removed]",
            "text/plain": [
              "<Figure size 432x288 with 1 Axes>"
            ]
          },
          "metadata": {
            "tags": [],
            "needs_background": "light"
          }
        }
      ]
    },
    {
      "cell_type": "code",
      "metadata": {
        "id": "VTMqfr8RMek0"
      },
      "source": [
        "del df['Unnamed: 32']"
      ],
      "execution_count": 7,
      "outputs": []
    },
    {
      "cell_type": "code",
      "metadata": {
        "id": "I-DXBA3bs8dF"
      },
      "source": [
        "X = df.iloc[:, 2:].values\n",
        "y = df.iloc[:, 1].values"
      ],
      "execution_count": 8,
      "outputs": []
    },
    {
      "cell_type": "code",
      "metadata": {
        "id": "pmCYhAHstBzc"
      },
      "source": [
        "from sklearn.preprocessing import LabelEncoder\n",
        "labelencoder = LabelEncoder()\n",
        "y = labelencoder.fit_transform(y)"
      ],
      "execution_count": 9,
      "outputs": []
    },
    {
      "cell_type": "code",
      "metadata": {
        "id": "kwpliLi0ta--"
      },
      "source": [
        "from sklearn.model_selection import train_test_split\n",
        "X_train, X_test, y_train, y_test = train_test_split(X,y, test_size=0.25, random_state=0)"
      ],
      "execution_count": 10,
      "outputs": []
    },
    {
      "cell_type": "code",
      "metadata": {
        "id": "ZcVvUu09th7X"
      },
      "source": [
        "from sklearn.preprocessing import StandardScaler\n",
        "scaler = StandardScaler()\n",
        "X_train = scaler.fit_transform(X_train)\n",
        "X_test = scaler.transform(X_test)"
      ],
      "execution_count": 11,
      "outputs": []
    },
    {
      "cell_type": "code",
      "metadata": {
        "id": "zmN9IyfSt9D7"
      },
      "source": [
        "INPUT_SIZE = X.shape[1]\n",
        "ENCODING_SIZE= 10"
      ],
      "execution_count": 12,
      "outputs": []
    },
    {
      "cell_type": "code",
      "metadata": {
        "id": "x7HKPeYzuhPN"
      },
      "source": [
        "input_data = Input(shape=(INPUT_SIZE,),name=\"INPUT_LAYER\")\n",
        "encoded = Dense(15,activation='relu',name=\"encoded1\")(input_data)\n",
        "encoded = Dense(15,activation='relu',name=\"encoded2\")(encoded)\n"
      ],
      "execution_count": 13,
      "outputs": []
    },
    {
      "cell_type": "code",
      "metadata": {
        "id": "_j3ohEoIuiGg"
      },
      "source": [
        "bottleneck =Dense(ENCODING_SIZE,name=\"bottleneck\")(encoded)\n"
      ],
      "execution_count": 14,
      "outputs": []
    },
    {
      "cell_type": "code",
      "metadata": {
        "id": "jMh6DX7rwkMQ"
      },
      "source": [
        "decoded = Dense(15,activation='relu',name=\"decoded1\")(bottleneck)\n",
        "decoded = Dense(30,activation='relu',name=\"decoded2\")(decoded)\n",
        "decoded = Dense(INPUT_SIZE,activation='sigmoid',name=\"OUTPUT_LAYER\")(decoded)"
      ],
      "execution_count": 15,
      "outputs": []
    },
    {
      "cell_type": "code",
      "metadata": {
        "colab": {
          "base_uri": "https://localhost:8080/"
        },
        "id": "h6n3qh90xWTM",
        "outputId": "80ffb0dc-b7b2-46e9-8157-c8026bb6d44e"
      },
      "source": [
        "autoencoder = Model(input_data,decoded)\n",
        "print (autoencoder.summary())\n",
        "autoencoder.compile(optimizer='adadelta',loss='binary_crossentropy',metrics=['accuracy'])\n",
        "\n"
      ],
      "execution_count": 16,
      "outputs": [
        {
          "output_type": "stream",
          "text": [
            "Model: \"model\"\n",
            "_________________________________________________________________\n",
            "Layer (type)                 Output Shape              Param #   \n",
            "=================================================================\n",
            "INPUT_LAYER (InputLayer)     [(None, 30)]              0         \n",
            "_________________________________________________________________\n",
            "encoded1 (Dense)             (None, 15)                465       \n",
            "_________________________________________________________________\n",
            "encoded2 (Dense)             (None, 15)                240       \n",
            "_________________________________________________________________\n",
            "bottleneck (Dense)           (None, 10)                160       \n",
            "_________________________________________________________________\n",
            "decoded1 (Dense)             (None, 15)                165       \n",
            "_________________________________________________________________\n",
            "decoded2 (Dense)             (None, 30)                480       \n",
            "_________________________________________________________________\n",
            "OUTPUT_LAYER (Dense)         (None, 30)                930       \n",
            "=================================================================\n",
            "Total params: 2,440\n",
            "Trainable params: 2,440\n",
            "Non-trainable params: 0\n",
            "_________________________________________________________________\n",
            "None\n"
          ],
          "name": "stdout"
        }
      ]
    },
    {
      "cell_type": "code",
      "metadata": {
        "colab": {
          "base_uri": "https://localhost:8080/"
        },
        "id": "DBCbHaYdyCzz",
        "outputId": "89995e6b-3326-4ee2-ede2-c393bb5b9acc"
      },
      "source": [
        "autoencoder.fit(X_train, X_train, epochs=100, batch_size=256, shuffle=True, validation_data=(X_test,X_test))"
      ],
      "execution_count": 17,
      "outputs": [
        {
          "output_type": "stream",
          "text": [
            "Epoch 1/100\n",
            "2/2 [==============================] - 1s 417ms/step - loss: 0.7041 - accuracy: 0.0402 - val_loss: 0.7033 - val_accuracy: 0.0210\n",
            "Epoch 2/100\n",
            "2/2 [==============================] - 0s 31ms/step - loss: 0.7037 - accuracy: 0.0467 - val_loss: 0.7032 - val_accuracy: 0.0210\n",
            "Epoch 3/100\n",
            "2/2 [==============================] - 0s 32ms/step - loss: 0.7046 - accuracy: 0.0402 - val_loss: 0.7032 - val_accuracy: 0.0210\n",
            "Epoch 4/100\n",
            "2/2 [==============================] - 0s 34ms/step - loss: 0.7043 - accuracy: 0.0480 - val_loss: 0.7032 - val_accuracy: 0.0210\n",
            "Epoch 5/100\n",
            "2/2 [==============================] - 0s 32ms/step - loss: 0.7044 - accuracy: 0.0441 - val_loss: 0.7032 - val_accuracy: 0.0210\n",
            "Epoch 6/100\n",
            "2/2 [==============================] - 0s 35ms/step - loss: 0.7044 - accuracy: 0.0402 - val_loss: 0.7032 - val_accuracy: 0.0210\n",
            "Epoch 7/100\n",
            "2/2 [==============================] - 0s 32ms/step - loss: 0.7043 - accuracy: 0.0428 - val_loss: 0.7032 - val_accuracy: 0.0210\n",
            "Epoch 8/100\n",
            "2/2 [==============================] - 0s 32ms/step - loss: 0.7040 - accuracy: 0.0480 - val_loss: 0.7032 - val_accuracy: 0.0210\n",
            "Epoch 9/100\n",
            "2/2 [==============================] - 0s 33ms/step - loss: 0.7036 - accuracy: 0.0454 - val_loss: 0.7032 - val_accuracy: 0.0210\n",
            "Epoch 10/100\n",
            "2/2 [==============================] - 0s 33ms/step - loss: 0.7040 - accuracy: 0.0402 - val_loss: 0.7032 - val_accuracy: 0.0210\n",
            "Epoch 11/100\n",
            "2/2 [==============================] - 0s 32ms/step - loss: 0.7042 - accuracy: 0.0415 - val_loss: 0.7032 - val_accuracy: 0.0210\n",
            "Epoch 12/100\n",
            "2/2 [==============================] - 0s 34ms/step - loss: 0.7034 - accuracy: 0.0441 - val_loss: 0.7031 - val_accuracy: 0.0210\n",
            "Epoch 13/100\n",
            "2/2 [==============================] - 0s 33ms/step - loss: 0.7036 - accuracy: 0.0493 - val_loss: 0.7031 - val_accuracy: 0.0210\n",
            "Epoch 14/100\n",
            "2/2 [==============================] - 0s 32ms/step - loss: 0.7036 - accuracy: 0.0480 - val_loss: 0.7031 - val_accuracy: 0.0210\n",
            "Epoch 15/100\n",
            "2/2 [==============================] - 0s 33ms/step - loss: 0.7030 - accuracy: 0.0493 - val_loss: 0.7031 - val_accuracy: 0.0210\n",
            "Epoch 16/100\n",
            "2/2 [==============================] - 0s 33ms/step - loss: 0.7039 - accuracy: 0.0480 - val_loss: 0.7031 - val_accuracy: 0.0210\n",
            "Epoch 17/100\n",
            "2/2 [==============================] - 0s 33ms/step - loss: 0.7040 - accuracy: 0.0467 - val_loss: 0.7031 - val_accuracy: 0.0210\n",
            "Epoch 18/100\n",
            "2/2 [==============================] - 0s 32ms/step - loss: 0.7041 - accuracy: 0.0441 - val_loss: 0.7031 - val_accuracy: 0.0210\n",
            "Epoch 19/100\n",
            "2/2 [==============================] - 0s 30ms/step - loss: 0.7039 - accuracy: 0.0441 - val_loss: 0.7031 - val_accuracy: 0.0210\n",
            "Epoch 20/100\n",
            "2/2 [==============================] - 0s 34ms/step - loss: 0.7034 - accuracy: 0.0506 - val_loss: 0.7031 - val_accuracy: 0.0210\n",
            "Epoch 21/100\n",
            "2/2 [==============================] - 0s 38ms/step - loss: 0.7030 - accuracy: 0.0480 - val_loss: 0.7030 - val_accuracy: 0.0210\n",
            "Epoch 22/100\n",
            "2/2 [==============================] - 0s 38ms/step - loss: 0.7030 - accuracy: 0.0467 - val_loss: 0.7030 - val_accuracy: 0.0210\n",
            "Epoch 23/100\n",
            "2/2 [==============================] - 0s 33ms/step - loss: 0.7034 - accuracy: 0.0454 - val_loss: 0.7030 - val_accuracy: 0.0210\n",
            "Epoch 24/100\n",
            "2/2 [==============================] - 0s 33ms/step - loss: 0.7039 - accuracy: 0.0402 - val_loss: 0.7030 - val_accuracy: 0.0210\n",
            "Epoch 25/100\n",
            "2/2 [==============================] - 0s 34ms/step - loss: 0.7034 - accuracy: 0.0402 - val_loss: 0.7030 - val_accuracy: 0.0210\n",
            "Epoch 26/100\n",
            "2/2 [==============================] - 0s 34ms/step - loss: 0.7033 - accuracy: 0.0428 - val_loss: 0.7030 - val_accuracy: 0.0210\n",
            "Epoch 27/100\n",
            "2/2 [==============================] - 0s 33ms/step - loss: 0.7035 - accuracy: 0.0493 - val_loss: 0.7030 - val_accuracy: 0.0210\n",
            "Epoch 28/100\n",
            "2/2 [==============================] - 0s 34ms/step - loss: 0.7031 - accuracy: 0.0441 - val_loss: 0.7030 - val_accuracy: 0.0210\n",
            "Epoch 29/100\n",
            "2/2 [==============================] - 0s 34ms/step - loss: 0.7040 - accuracy: 0.0467 - val_loss: 0.7029 - val_accuracy: 0.0210\n",
            "Epoch 30/100\n",
            "2/2 [==============================] - 0s 35ms/step - loss: 0.7036 - accuracy: 0.0467 - val_loss: 0.7029 - val_accuracy: 0.0210\n",
            "Epoch 31/100\n",
            "2/2 [==============================] - 0s 37ms/step - loss: 0.7036 - accuracy: 0.0454 - val_loss: 0.7029 - val_accuracy: 0.0210\n",
            "Epoch 32/100\n",
            "2/2 [==============================] - 0s 45ms/step - loss: 0.7029 - accuracy: 0.0415 - val_loss: 0.7029 - val_accuracy: 0.0210\n",
            "Epoch 33/100\n",
            "2/2 [==============================] - 0s 36ms/step - loss: 0.7038 - accuracy: 0.0454 - val_loss: 0.7029 - val_accuracy: 0.0210\n",
            "Epoch 34/100\n",
            "2/2 [==============================] - 0s 36ms/step - loss: 0.7035 - accuracy: 0.0428 - val_loss: 0.7029 - val_accuracy: 0.0210\n",
            "Epoch 35/100\n",
            "2/2 [==============================] - 0s 36ms/step - loss: 0.7035 - accuracy: 0.0402 - val_loss: 0.7029 - val_accuracy: 0.0210\n",
            "Epoch 36/100\n",
            "2/2 [==============================] - 0s 34ms/step - loss: 0.7035 - accuracy: 0.0441 - val_loss: 0.7029 - val_accuracy: 0.0210\n",
            "Epoch 37/100\n",
            "2/2 [==============================] - 0s 41ms/step - loss: 0.7035 - accuracy: 0.0467 - val_loss: 0.7029 - val_accuracy: 0.0210\n",
            "Epoch 38/100\n",
            "2/2 [==============================] - 0s 34ms/step - loss: 0.7034 - accuracy: 0.0402 - val_loss: 0.7028 - val_accuracy: 0.0210\n",
            "Epoch 39/100\n",
            "2/2 [==============================] - 0s 35ms/step - loss: 0.7038 - accuracy: 0.0428 - val_loss: 0.7028 - val_accuracy: 0.0210\n",
            "Epoch 40/100\n",
            "2/2 [==============================] - 0s 33ms/step - loss: 0.7038 - accuracy: 0.0480 - val_loss: 0.7028 - val_accuracy: 0.0210\n",
            "Epoch 41/100\n",
            "2/2 [==============================] - 0s 40ms/step - loss: 0.7031 - accuracy: 0.0467 - val_loss: 0.7028 - val_accuracy: 0.0210\n",
            "Epoch 42/100\n",
            "2/2 [==============================] - 0s 32ms/step - loss: 0.7038 - accuracy: 0.0454 - val_loss: 0.7028 - val_accuracy: 0.0210\n",
            "Epoch 43/100\n",
            "2/2 [==============================] - 0s 32ms/step - loss: 0.7038 - accuracy: 0.0454 - val_loss: 0.7028 - val_accuracy: 0.0210\n",
            "Epoch 44/100\n",
            "2/2 [==============================] - 0s 37ms/step - loss: 0.7038 - accuracy: 0.0415 - val_loss: 0.7028 - val_accuracy: 0.0210\n",
            "Epoch 45/100\n",
            "2/2 [==============================] - 0s 35ms/step - loss: 0.7040 - accuracy: 0.0428 - val_loss: 0.7028 - val_accuracy: 0.0210\n",
            "Epoch 46/100\n",
            "2/2 [==============================] - 0s 35ms/step - loss: 0.7030 - accuracy: 0.0428 - val_loss: 0.7028 - val_accuracy: 0.0210\n",
            "Epoch 47/100\n",
            "2/2 [==============================] - 0s 33ms/step - loss: 0.7039 - accuracy: 0.0428 - val_loss: 0.7027 - val_accuracy: 0.0210\n",
            "Epoch 48/100\n",
            "2/2 [==============================] - 0s 35ms/step - loss: 0.7039 - accuracy: 0.0415 - val_loss: 0.7027 - val_accuracy: 0.0210\n",
            "Epoch 49/100\n",
            "2/2 [==============================] - 0s 36ms/step - loss: 0.7030 - accuracy: 0.0428 - val_loss: 0.7027 - val_accuracy: 0.0210\n",
            "Epoch 50/100\n",
            "2/2 [==============================] - 0s 38ms/step - loss: 0.7039 - accuracy: 0.0441 - val_loss: 0.7027 - val_accuracy: 0.0210\n",
            "Epoch 51/100\n",
            "2/2 [==============================] - 0s 37ms/step - loss: 0.7037 - accuracy: 0.0480 - val_loss: 0.7027 - val_accuracy: 0.0210\n",
            "Epoch 52/100\n",
            "2/2 [==============================] - 0s 37ms/step - loss: 0.7028 - accuracy: 0.0428 - val_loss: 0.7027 - val_accuracy: 0.0210\n",
            "Epoch 53/100\n",
            "2/2 [==============================] - 0s 33ms/step - loss: 0.7035 - accuracy: 0.0402 - val_loss: 0.7027 - val_accuracy: 0.0210\n",
            "Epoch 54/100\n",
            "2/2 [==============================] - 0s 33ms/step - loss: 0.7037 - accuracy: 0.0415 - val_loss: 0.7027 - val_accuracy: 0.0210\n",
            "Epoch 55/100\n",
            "2/2 [==============================] - 0s 33ms/step - loss: 0.7040 - accuracy: 0.0480 - val_loss: 0.7026 - val_accuracy: 0.0210\n",
            "Epoch 56/100\n",
            "2/2 [==============================] - 0s 33ms/step - loss: 0.7037 - accuracy: 0.0441 - val_loss: 0.7026 - val_accuracy: 0.0210\n",
            "Epoch 57/100\n",
            "2/2 [==============================] - 0s 35ms/step - loss: 0.7034 - accuracy: 0.0467 - val_loss: 0.7026 - val_accuracy: 0.0210\n",
            "Epoch 58/100\n",
            "2/2 [==============================] - 0s 36ms/step - loss: 0.7041 - accuracy: 0.0454 - val_loss: 0.7026 - val_accuracy: 0.0210\n",
            "Epoch 59/100\n",
            "2/2 [==============================] - 0s 35ms/step - loss: 0.7028 - accuracy: 0.0415 - val_loss: 0.7026 - val_accuracy: 0.0210\n",
            "Epoch 60/100\n",
            "2/2 [==============================] - 0s 37ms/step - loss: 0.7037 - accuracy: 0.0388 - val_loss: 0.7026 - val_accuracy: 0.0210\n",
            "Epoch 61/100\n",
            "2/2 [==============================] - 0s 40ms/step - loss: 0.7035 - accuracy: 0.0454 - val_loss: 0.7026 - val_accuracy: 0.0210\n",
            "Epoch 62/100\n",
            "2/2 [==============================] - 0s 34ms/step - loss: 0.7037 - accuracy: 0.0454 - val_loss: 0.7026 - val_accuracy: 0.0210\n",
            "Epoch 63/100\n",
            "2/2 [==============================] - 0s 33ms/step - loss: 0.7036 - accuracy: 0.0441 - val_loss: 0.7026 - val_accuracy: 0.0210\n",
            "Epoch 64/100\n",
            "2/2 [==============================] - 0s 35ms/step - loss: 0.7036 - accuracy: 0.0467 - val_loss: 0.7025 - val_accuracy: 0.0210\n",
            "Epoch 65/100\n",
            "2/2 [==============================] - 0s 34ms/step - loss: 0.7036 - accuracy: 0.0441 - val_loss: 0.7025 - val_accuracy: 0.0210\n",
            "Epoch 66/100\n",
            "2/2 [==============================] - 0s 34ms/step - loss: 0.7032 - accuracy: 0.0388 - val_loss: 0.7025 - val_accuracy: 0.0210\n",
            "Epoch 67/100\n",
            "2/2 [==============================] - 0s 32ms/step - loss: 0.7039 - accuracy: 0.0415 - val_loss: 0.7025 - val_accuracy: 0.0210\n",
            "Epoch 68/100\n",
            "2/2 [==============================] - 0s 32ms/step - loss: 0.7031 - accuracy: 0.0441 - val_loss: 0.7025 - val_accuracy: 0.0210\n",
            "Epoch 69/100\n",
            "2/2 [==============================] - 0s 35ms/step - loss: 0.7035 - accuracy: 0.0428 - val_loss: 0.7025 - val_accuracy: 0.0210\n",
            "Epoch 70/100\n",
            "2/2 [==============================] - 0s 40ms/step - loss: 0.7038 - accuracy: 0.0402 - val_loss: 0.7025 - val_accuracy: 0.0210\n",
            "Epoch 71/100\n",
            "2/2 [==============================] - 0s 32ms/step - loss: 0.7036 - accuracy: 0.0428 - val_loss: 0.7025 - val_accuracy: 0.0210\n",
            "Epoch 72/100\n",
            "2/2 [==============================] - 0s 34ms/step - loss: 0.7031 - accuracy: 0.0428 - val_loss: 0.7024 - val_accuracy: 0.0210\n",
            "Epoch 73/100\n",
            "2/2 [==============================] - 0s 34ms/step - loss: 0.7034 - accuracy: 0.0428 - val_loss: 0.7024 - val_accuracy: 0.0210\n",
            "Epoch 74/100\n",
            "2/2 [==============================] - 0s 34ms/step - loss: 0.7023 - accuracy: 0.0480 - val_loss: 0.7024 - val_accuracy: 0.0210\n",
            "Epoch 75/100\n",
            "2/2 [==============================] - 0s 35ms/step - loss: 0.7035 - accuracy: 0.0454 - val_loss: 0.7024 - val_accuracy: 0.0210\n",
            "Epoch 76/100\n",
            "2/2 [==============================] - 0s 38ms/step - loss: 0.7033 - accuracy: 0.0428 - val_loss: 0.7024 - val_accuracy: 0.0210\n",
            "Epoch 77/100\n",
            "2/2 [==============================] - 0s 40ms/step - loss: 0.7028 - accuracy: 0.0415 - val_loss: 0.7024 - val_accuracy: 0.0210\n",
            "Epoch 78/100\n",
            "2/2 [==============================] - 0s 39ms/step - loss: 0.7027 - accuracy: 0.0428 - val_loss: 0.7024 - val_accuracy: 0.0210\n",
            "Epoch 79/100\n",
            "2/2 [==============================] - 0s 36ms/step - loss: 0.7036 - accuracy: 0.0467 - val_loss: 0.7024 - val_accuracy: 0.0210\n",
            "Epoch 80/100\n",
            "2/2 [==============================] - 0s 33ms/step - loss: 0.7026 - accuracy: 0.0428 - val_loss: 0.7023 - val_accuracy: 0.0210\n",
            "Epoch 81/100\n",
            "2/2 [==============================] - 0s 37ms/step - loss: 0.7019 - accuracy: 0.0506 - val_loss: 0.7023 - val_accuracy: 0.0210\n",
            "Epoch 82/100\n",
            "2/2 [==============================] - 0s 42ms/step - loss: 0.7030 - accuracy: 0.0454 - val_loss: 0.7023 - val_accuracy: 0.0210\n",
            "Epoch 83/100\n",
            "2/2 [==============================] - 0s 43ms/step - loss: 0.7024 - accuracy: 0.0480 - val_loss: 0.7023 - val_accuracy: 0.0210\n",
            "Epoch 84/100\n",
            "2/2 [==============================] - 0s 36ms/step - loss: 0.7029 - accuracy: 0.0428 - val_loss: 0.7023 - val_accuracy: 0.0210\n",
            "Epoch 85/100\n",
            "2/2 [==============================] - 0s 38ms/step - loss: 0.7027 - accuracy: 0.0467 - val_loss: 0.7023 - val_accuracy: 0.0210\n",
            "Epoch 86/100\n",
            "2/2 [==============================] - 0s 37ms/step - loss: 0.7034 - accuracy: 0.0454 - val_loss: 0.7023 - val_accuracy: 0.0210\n",
            "Epoch 87/100\n",
            "2/2 [==============================] - 0s 38ms/step - loss: 0.7019 - accuracy: 0.0480 - val_loss: 0.7023 - val_accuracy: 0.0210\n",
            "Epoch 88/100\n",
            "2/2 [==============================] - 0s 40ms/step - loss: 0.7032 - accuracy: 0.0388 - val_loss: 0.7022 - val_accuracy: 0.0210\n",
            "Epoch 89/100\n",
            "2/2 [==============================] - 0s 42ms/step - loss: 0.7029 - accuracy: 0.0402 - val_loss: 0.7022 - val_accuracy: 0.0210\n",
            "Epoch 90/100\n",
            "2/2 [==============================] - 0s 34ms/step - loss: 0.7031 - accuracy: 0.0428 - val_loss: 0.7022 - val_accuracy: 0.0210\n",
            "Epoch 91/100\n",
            "2/2 [==============================] - 0s 33ms/step - loss: 0.7035 - accuracy: 0.0428 - val_loss: 0.7022 - val_accuracy: 0.0210\n",
            "Epoch 92/100\n",
            "2/2 [==============================] - 0s 39ms/step - loss: 0.7032 - accuracy: 0.0454 - val_loss: 0.7022 - val_accuracy: 0.0210\n",
            "Epoch 93/100\n",
            "2/2 [==============================] - 0s 36ms/step - loss: 0.7028 - accuracy: 0.0428 - val_loss: 0.7022 - val_accuracy: 0.0210\n",
            "Epoch 94/100\n",
            "2/2 [==============================] - 0s 32ms/step - loss: 0.7035 - accuracy: 0.0402 - val_loss: 0.7022 - val_accuracy: 0.0210\n",
            "Epoch 95/100\n",
            "2/2 [==============================] - 0s 35ms/step - loss: 0.7021 - accuracy: 0.0441 - val_loss: 0.7022 - val_accuracy: 0.0210\n",
            "Epoch 96/100\n",
            "2/2 [==============================] - 0s 39ms/step - loss: 0.7027 - accuracy: 0.0428 - val_loss: 0.7021 - val_accuracy: 0.0210\n",
            "Epoch 97/100\n",
            "2/2 [==============================] - 0s 41ms/step - loss: 0.7028 - accuracy: 0.0467 - val_loss: 0.7021 - val_accuracy: 0.0210\n",
            "Epoch 98/100\n",
            "2/2 [==============================] - 0s 40ms/step - loss: 0.7024 - accuracy: 0.0415 - val_loss: 0.7021 - val_accuracy: 0.0210\n",
            "Epoch 99/100\n",
            "2/2 [==============================] - 0s 34ms/step - loss: 0.7028 - accuracy: 0.0467 - val_loss: 0.7021 - val_accuracy: 0.0210\n",
            "Epoch 100/100\n",
            "2/2 [==============================] - 0s 33ms/step - loss: 0.7030 - accuracy: 0.0493 - val_loss: 0.7021 - val_accuracy: 0.0210\n"
          ],
          "name": "stdout"
        },
        {
          "output_type": "execute_result",
          "data": {
            "text/plain": [
              "<tensorflow.python.keras.callbacks.History at 0x7ff1692c0ed0>"
            ]
          },
          "metadata": {
            "tags": []
          },
          "execution_count": 17
        }
      ]
    }
  ]
}